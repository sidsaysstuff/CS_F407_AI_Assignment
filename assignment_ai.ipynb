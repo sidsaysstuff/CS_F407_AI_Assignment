{
 "cells": [
  {
   "cell_type": "code",
   "execution_count": 2,
   "metadata": {},
   "outputs": [],
   "source": [
    "import pandas as pd\n",
    "import matplotlib.pyplot as plt"
   ]
  },
  {
   "cell_type": "code",
   "execution_count": 3,
   "metadata": {},
   "outputs": [
    {
     "data": {
      "image/png": "[encoded data removed]",
      "text/plain": [
       "<Figure size 640x480 with 1 Axes>"
      ]
     },
     "metadata": {},
     "output_type": "display_data"
    }
   ],
   "source": [
    "df = pd.read_csv(\"final1.csv\")\n",
    "df.columns\n",
    "X = list(df.iloc[:, 0]) \n",
    "Y = list(df.iloc[:, 14])\n",
    "plt.bar(X, Y, color='g') \n",
    "plt.title(\"PCT\") \n",
    "plt.xlabel(\"s.no\") \n",
    "plt.ylabel(\"mid\") \n",
    "plt.show()"
   ]
  },
  {
   "cell_type": "markdown",
   "metadata": {},
   "source": [
    "# Deep Neural Network"
   ]
  },
  {
   "cell_type": "code",
   "execution_count": null,
   "metadata": {},
   "outputs": [],
   "source": [
    "import numpy as np\n",
    "from sklearn.model_selection import train_test_split\n",
    "from sklearn.preprocessing import StandardScaler\n",
    "import tensorflow as tf\n",
    "from tensorflow import keras\n",
    "from keras.models import Sequential\n",
    "from keras.layers import Dense, Dropout, BatchNormalization\n",
    "from keras.optimizers import Adam\n",
    "from keras.callbacks import EarlyStopping\n"
   ]
  },
  {
   "cell_type": "code",
   "execution_count": 11,
   "metadata": {},
   "outputs": [
    {
     "ename": "NameError",
     "evalue": "name 'Sequential' is not defined",
     "output_type": "error",
     "traceback": [
      "\u001b[1;31m---------------------------------------------------------------------------\u001b[0m",
      "\u001b[1;31mNameError\u001b[0m                                 Traceback (most recent call last)",
      "Cell \u001b[1;32mIn[11], line 21\u001b[0m\n\u001b[0;32m     18\u001b[0m X_train, X_test, y_train, y_test \u001b[38;5;241m=\u001b[39m train_test_split(features_scaled, target, test_size\u001b[38;5;241m=\u001b[39m\u001b[38;5;241m0.2\u001b[39m, random_state\u001b[38;5;241m=\u001b[39m\u001b[38;5;241m42\u001b[39m)\n\u001b[0;32m     20\u001b[0m \u001b[38;5;66;03m# Define the model\u001b[39;00m\n\u001b[1;32m---> 21\u001b[0m model \u001b[38;5;241m=\u001b[39m \u001b[43mSequential\u001b[49m([\n\u001b[0;32m     22\u001b[0m     Dense(\u001b[38;5;241m256\u001b[39m, input_dim\u001b[38;5;241m=\u001b[39mX_train\u001b[38;5;241m.\u001b[39mshape[\u001b[38;5;241m1\u001b[39m], activation\u001b[38;5;241m=\u001b[39m\u001b[38;5;124m'\u001b[39m\u001b[38;5;124mrelu\u001b[39m\u001b[38;5;124m'\u001b[39m),\n\u001b[0;32m     23\u001b[0m     Dropout(\u001b[38;5;241m0.3\u001b[39m),\n\u001b[0;32m     24\u001b[0m     BatchNormalization(),\n\u001b[0;32m     25\u001b[0m     Dense(\u001b[38;5;241m128\u001b[39m, activation\u001b[38;5;241m=\u001b[39m\u001b[38;5;124m'\u001b[39m\u001b[38;5;124mrelu\u001b[39m\u001b[38;5;124m'\u001b[39m),\n\u001b[0;32m     26\u001b[0m     Dropout(\u001b[38;5;241m0.3\u001b[39m),\n\u001b[0;32m     27\u001b[0m     BatchNormalization(),\n\u001b[0;32m     28\u001b[0m     Dense(\u001b[38;5;241m64\u001b[39m, activation\u001b[38;5;241m=\u001b[39m\u001b[38;5;124m'\u001b[39m\u001b[38;5;124mrelu\u001b[39m\u001b[38;5;124m'\u001b[39m),\n\u001b[0;32m     29\u001b[0m     Dropout(\u001b[38;5;241m0.2\u001b[39m),\n\u001b[0;32m     30\u001b[0m     BatchNormalization(),\n\u001b[0;32m     31\u001b[0m     Dense(\u001b[38;5;241m1\u001b[39m, activation\u001b[38;5;241m=\u001b[39m\u001b[38;5;124m'\u001b[39m\u001b[38;5;124mlinear\u001b[39m\u001b[38;5;124m'\u001b[39m)  \u001b[38;5;66;03m# Linear activation for regression\u001b[39;00m\n\u001b[0;32m     32\u001b[0m ])\n\u001b[0;32m     34\u001b[0m \u001b[38;5;66;03m# Compile the model\u001b[39;00m\n\u001b[0;32m     35\u001b[0m model\u001b[38;5;241m.\u001b[39mcompile(optimizer\u001b[38;5;241m=\u001b[39mAdam(), loss\u001b[38;5;241m=\u001b[39m\u001b[38;5;124m'\u001b[39m\u001b[38;5;124mmean_squared_error\u001b[39m\u001b[38;5;124m'\u001b[39m, metrics\u001b[38;5;241m=\u001b[39m[\u001b[38;5;124m'\u001b[39m\u001b[38;5;124mmean_absolute_error\u001b[39m\u001b[38;5;124m'\u001b[39m])\n",
      "\u001b[1;31mNameError\u001b[0m: name 'Sequential' is not defined"
     ]
    }
   ],
   "source": [
    "# Load data\n",
    "data = df.copy()\n",
    "\n",
    "# Adding new engineered features\n",
    "data['Avg_Tutorial_Score'] = data[['T1', 'T2', 'T3', 'T4', 'T5']].mean(axis=1)\n",
    "data['Total_Precomp_Score'] = data['Mid(100)'] + data['Tut (80)'] + data['PCT (180)']\n",
    "data['Std_Dev_Tutorial_Scores'] = data[['T1', 'T2', 'T3', 'T4', 'T5']].std(axis=1)\n",
    "\n",
    "# Selecting numerical score columns for features including new features\n",
    "features = data[['Mid(100)', 'T1', 'T2', 'T3', 'T4', 'T5', 'Tut (80)', 'PCT (180)', 'Avg_Tutorial_Score', 'Total_Precomp_Score', 'Std_Dev_Tutorial_Scores']]\n",
    "target = data['CT(300)']  # Target variable\n",
    "\n",
    "# Scale the features\n",
    "scaler = StandardScaler()\n",
    "features_scaled = scaler.fit_transform(features)\n",
    "\n",
    "# Split the data\n",
    "X_train, X_test, y_train, y_test = train_test_split(features_scaled, target, test_size=0.2, random_state=42)\n",
    "\n",
    "# Define the model\n",
    "model = Sequential([\n",
    "    Dense(256, input_dim=X_train.shape[1], activation='relu'),\n",
    "    Dropout(0.3),\n",
    "    BatchNormalization(),\n",
    "    Dense(128, activation='relu'),\n",
    "    Dropout(0.3),\n",
    "    BatchNormalization(),\n",
    "    Dense(64, activation='relu'),\n",
    "    Dropout(0.2),\n",
    "    BatchNormalization(),\n",
    "    Dense(1, activation='linear')  # Linear activation for regression\n",
    "])\n",
    "\n",
    "# Compile the model\n",
    "model.compile(optimizer=Adam(), loss='mean_squared_error', metrics=['mean_absolute_error'])\n",
    "\n",
    "# Early stopping to prevent overfitting\n",
    "early_stopping = EarlyStopping(monitor='val_loss', patience=10, restore_best_weights=True)\n",
    "\n",
    "# Train the model\n",
    "history = model.fit(X_train, y_train, validation_split=0.1, epochs=150, batch_size=32, callbacks=[early_stopping])\n",
    "\n",
    "# Evaluate the model\n",
    "evaluation = model.evaluate(X_test, y_test)\n",
    "print(f'Test Loss: {evaluation[0]}, Test MAE: {evaluation[1]}')\n"
   ]
  },
  {
   "cell_type": "markdown",
   "metadata": {},
   "source": [
    "As we can see the performance of a DNN did not work well for the data, so lets move on to some better approach."
   ]
  },
  {
   "cell_type": "markdown",
   "metadata": {},
   "source": [
    "# XGBoost Model"
   ]
  },
  {
   "cell_type": "code",
   "execution_count": null,
   "metadata": {},
   "outputs": [],
   "source": [
    "import pandas as pd\n",
    "import numpy as np\n",
    "from sklearn.model_selection import train_test_split\n",
    "from sklearn.preprocessing import StandardScaler\n",
    "import xgboost as xgb\n",
    "from sklearn.metrics import mean_squared_error\n",
    "\n",
    "data = df.copy()\n",
    "\n",
    "# Adding new engineered features\n",
    "data['Avg_Tutorial_Score'] = data[['T1', 'T2', 'T3', 'T4', 'T5']].mean(axis=1)\n",
    "data['Total_Precomp_Score'] = data['Mid(100)'] + data['Tut (80)'] + data['PCT (180)']\n",
    "data['Std_Dev_Tutorial_Scores'] = data[['T1', 'T2', 'T3', 'T4', 'T5']].std(axis=1)\n",
    "\n",
    "# Selecting numerical score columns for features including new features\n",
    "features = data[['Mid(100)', 'T1', 'T2', 'T3', 'T4', 'T5', 'Tut (80)', 'PCT (180)', 'Avg_Tutorial_Score', 'Total_Precomp_Score', 'Std_Dev_Tutorial_Scores']]\n",
    "target = data['CT(300)']\n",
    "\n",
    "# Scale the features\n",
    "scaler = StandardScaler()\n",
    "features_scaled = scaler.fit_transform(features)\n",
    "\n",
    "# Split the data\n",
    "X_train, X_test, y_train, y_test = train_test_split(features_scaled, target, test_size=0.2, random_state=42)\n",
    "\n",
    "# Initialize and train the XGBoost model\n",
    "xgb_model = xgb.XGBRegressor(objective ='reg:squarederror', colsample_bytree = 0.3, learning_rate = 0.1,\n",
    "                             max_depth = 5, alpha = 10, n_estimators = 200)\n",
    "\n",
    "xgb_model.fit(X_train, y_train)\n",
    "\n",
    "# Evaluate the model\n",
    "predictions = xgb_model.predict(X_test)\n",
    "mae = np.mean(np.abs(predictions - y_test))\n",
    "mse = mean_squared_error(y_test, predictions)\n",
    "print(f'Test MAE: {mae}')\n",
    "print(f'Test MSE: {mse}')"
   ]
  },
  {
   "cell_type": "markdown",
   "metadata": {},
   "source": [
    "# Function to provide study suggestions based on performance thresholds"
   ]
  },
  {
   "cell_type": "code",
   "execution_count": null,
   "metadata": {},
   "outputs": [],
   "source": [
    "# Function to provide study suggestions based on performance thresholds\n",
    "def provide_study_suggestions(data, model, threshold='average'):\n",
    "    features = data[['Mid(100)', 'T1', 'T2', 'T3', 'T4', 'T5', 'Tut (80)', 'PCT (180)', 'Avg_Tutorial_Score', 'Total_Precomp_Score', 'Std_Dev_Tutorial_Scores']]\n",
    "    features_scaled = scaler.transform(features)\n",
    "    predictions = model.predict(features_scaled)\n",
    "    suggestions = []\n",
    "\n",
    "    for i, row in data.iterrows():\n",
    "        actual = row['CT(300)']\n",
    "        predicted = predictions[i]\n",
    "        if threshold == 'average':\n",
    "            threshold_value = data['CT(300)'].mean()\n",
    "        elif threshold == 'average+':\n",
    "            threshold_value = data['CT(300)'].mean() + 10  # Adjust this value as needed\n",
    "        elif threshold == 'average-':\n",
    "            threshold_value = data['CT(300)'].mean() - 10  # Adjust this value as needed\n",
    "\n",
    "        if predicted < threshold_value:  # Using predicted score to determine if suggestions are needed\n",
    "            test_scores = row[['T1', 'T2', 'T3', 'T4', 'T5']]\n",
    "            min_score_index = test_scores.argmin()\n",
    "            min_topic = row[f'Topic-{min_score_index + 1}']\n",
    "            suggestions.append((row['No.'], min_topic))\n",
    "    return suggestions\n",
    "\n",
    "study_suggestions = provide_study_suggestions(data, xgb_model)\n",
    "print(\"XGB Model Suggestions\")\n",
    "print(study_suggestions)\n",
    "\n",
    "study_suggestions = provide_study_suggestions(data, model)\n",
    "print(\"DNN Model Suggestions\")\n",
    "print(study_suggestions)"
   ]
  },
  {
   "cell_type": "markdown",
   "metadata": {},
   "source": [
    "Testing on Second Dataset"
   ]
  },
  {
   "cell_type": "code",
   "execution_count": null,
   "metadata": {},
   "outputs": [],
   "source": [
    "df_alt = pd.read_csv(\"dataset2_final.csv\")\n",
    "data1 = df.copy()\n",
    "\n",
    "# Adding new engineered features\n",
    "data1['Avg_Tutorial_Score'] = data1[['T1', 'T2', 'T3', 'T4', 'T5']].mean(axis=1)\n",
    "data1['Total_Precomp_Score'] = data1['Mid(100)'] + data1['Tut (80)'] + data1['PCT (180)']\n",
    "data1['Std_Dev_Tutorial_Scores'] = data1[['T1', 'T2', 'T3', 'T4', 'T5']].std(axis=1)\n",
    "\n",
    "# Selecting numerical score columns for features including new features\n",
    "features = data1[['Mid(100)', 'T1', 'T2', 'T3', 'T4', 'T5', 'Tut (80)', 'PCT (180)', 'Avg_Tutorial_Score', 'Total_Precomp_Score', 'Std_Dev_Tutorial_Scores']]\n",
    "target = data1['CT(300)']  # Target variable\n",
    "\n",
    "# Scale the features\n",
    "scaler = StandardScaler()\n",
    "features_scaled = scaler.fit_transform(features)\n",
    "\n",
    "# Split the data\n",
    "X_train, X_test, y_train, y_test = train_test_split(features_scaled, target, test_size=0.2, random_state=42)\n",
    "\n",
    "y_pred = xgb_model.predict(X_test)\n",
    "print(y_pred)\n",
    "y_pred1 = xgb_model.predict(X_train)\n",
    "print(y_pred1)\n"
   ]
  },
  {
   "cell_type": "code",
   "execution_count": null,
   "metadata": {},
   "outputs": [],
   "source": [
    "def mean_absolute_error(actual_values, predicted_values):\n",
    "    \"\"\"\n",
    "    Calculate the Mean Absolute Error (MAE) between actual and predicted values.\n",
    "\n",
    "    Parameters:\n",
    "        actual_values (list): List of actual values.\n",
    "        predicted_values (list): List of predicted values.\n",
    "\n",
    "    Returns:\n",
    "        float: Mean Absolute Error (MAE).\n",
    "    \"\"\"\n",
    "    if len(actual_values) != len(predicted_values):\n",
    "        raise ValueError(\"Length of actual_values and predicted_values must be the same.\")\n",
    "\n",
    "    error_sum = 0.0\n",
    "    for actual, predicted in zip(actual_values, predicted_values):\n",
    "        error_sum += abs(actual - predicted)\n",
    "\n",
    "    mae = error_sum / len(actual_values)\n",
    "    return mae\n",
    "\n",
    "mae1 = mean_absolute_error(y_test, y_pred)\n",
    "print(\"Mean Absolute Error:\", mae1)\n",
    "\n",
    "mae2 = mean_absolute_error(y_train, y_pred1)\n",
    "print(\"Mean Absolute Error:\", mae2)"
   ]
  }
 ],
 "metadata": {
  "kernelspec": {
   "display_name": "base",
   "language": "python",
   "name": "python3"
  },
  "language_info": {
   "codemirror_mode": {
    "name": "ipython",
    "version": 3
   },
   "file_extension": ".py",
   "mimetype": "text/x-python",
   "name": "python",
   "nbconvert_exporter": "python",
   "pygments_lexer": "ipython3",
   "version": "3.12.1"
  }
 },
 "nbformat": 4,
 "nbformat_minor": 2
}
